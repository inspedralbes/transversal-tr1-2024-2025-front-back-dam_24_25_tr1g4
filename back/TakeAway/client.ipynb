{
 "cells": [
  {
   "cell_type": "code",
   "execution_count": 1,
   "metadata": {},
   "outputs": [
    {
     "ename": "ModuleNotFoundError",
     "evalue": "No module named 'mysql'",
     "output_type": "error",
     "traceback": [
      "\u001b[1;31m---------------------------------------------------------------------------\u001b[0m",
      "\u001b[1;31mModuleNotFoundError\u001b[0m                       Traceback (most recent call last)",
      "Cell \u001b[1;32mIn[1], line 1\u001b[0m\n\u001b[1;32m----> 1\u001b[0m \u001b[38;5;28;01mimport\u001b[39;00m \u001b[38;5;21;01mmysql\u001b[39;00m\u001b[38;5;21;01m.\u001b[39;00m\u001b[38;5;21;01mconnector\u001b[39;00m\n\u001b[0;32m      2\u001b[0m \u001b[38;5;28;01mimport\u001b[39;00m \u001b[38;5;21;01mmatplotlib\u001b[39;00m\u001b[38;5;21;01m.\u001b[39;00m\u001b[38;5;21;01mpyplot\u001b[39;00m \u001b[38;5;28;01mas\u001b[39;00m \u001b[38;5;21;01mplt\u001b[39;00m\n\u001b[0;32m      3\u001b[0m \u001b[38;5;28;01mimport\u001b[39;00m \u001b[38;5;21;01mpandas\u001b[39;00m \u001b[38;5;28;01mas\u001b[39;00m \u001b[38;5;21;01mpd\u001b[39;00m\n",
      "\u001b[1;31mModuleNotFoundError\u001b[0m: No module named 'mysql'"
     ]
    }
   ],
   "source": [
    "import mysql.connector\n",
    "import matplotlib.pyplot as plt\n",
    "import pandas as pd\n",
    "connection = mysql.connector.connect(\n",
    "    host=\"localhost\",\n",
    "    port=\"3306\",\n",
    "    user=\"root\",\n",
    "    password=\"\",\n",
    "    database=\"tr1_wired\"\n",
    ")\n",
    "cursor = connection.cursor()\n",
    "\n",
    "select = \"\"\"SELECT \n",
    "    u.CORREO,\n",
    "    (SUM(c.PREU_TOTAL) * 100.0 / (SELECT SUM(PREU_TOTAL) FROM comanda)) AS porcentaje_gasto\n",
    "FROM \n",
    "    comanda c\n",
    "JOIN \n",
    "    usuari u ON c.IDUSER = u.ID\n",
    "GROUP BY \n",
    "    u.CORREO\"\"\"\n",
    "cursor.execute(select)\n",
    "datos_estadistiques = cursor.fetchall()\n",
    "connection.close()\n",
    "\n",
    "correos_cli =[row[0] for row in datos_estadistiques]\n",
    "porcentajes = [row[1] for row in datos_estadistiques]\n",
    "\n",
    "plt.figure(figsize=(20, 12))\n",
    "plt.bar(correos_cli, porcentajes, color = 'pink')\n",
    "plt.title('Porcentaje de gastos por cliente (%)', size = 40)\n",
    "plt.xlabel('Correo de Cliente', size = 30)\n",
    "plt.ylabel('Porcentaje de gasto (%)', size = 30)\n",
    "plt.xticks(rotation = 45, ha = 'right', size = 25)\n",
    "plt.yticks(size = 25)\n",
    "plt.tight_layout()\n",
    "plt.show()"
   ]
  },
  {
   "cell_type": "code",
   "execution_count": null,
   "metadata": {},
   "outputs": [],
   "source": []
  }
 ],
 "metadata": {
  "kernelspec": {
   "display_name": "Python 3 (ipykernel)",
   "language": "python",
   "name": "python3"
  },
  "language_info": {
   "codemirror_mode": {
    "name": "ipython",
    "version": 3
   },
   "file_extension": ".py",
   "mimetype": "text/x-python",
   "name": "python",
   "nbconvert_exporter": "python",
   "pygments_lexer": "ipython3",
   "version": "3.12.7"
  }
 },
 "nbformat": 4,
 "nbformat_minor": 4
}
