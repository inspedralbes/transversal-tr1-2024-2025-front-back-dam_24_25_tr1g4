{
 "cells": [
  {
   "cell_type": "code",
   "execution_count": 3,
   "metadata": {},
   "outputs": [
    {
     "name": "stdout",
     "output_type": "stream",
     "text": [
      " ID          Clients  Ventes  Diners Diners_venda Moneda\n",
      "  1           uwuowo       9     100        11.11   euro\n",
      "  1           uwuowo       3      20         6.67   euro\n",
      "  4      Juan PÃ©rez       8      50         6.25   euro\n",
      "  4      Juan PÃ©rez      30      50         1.67   euro\n",
      "  4      Juan PÃ©rez     100     200         2.00   euro\n",
      "  3 LucÃ­a GonzÃ¡lez      50     240         4.80   euro\n",
      "  2 Carlos MartÃ­nez      72     240         3.33   euro\n",
      "  6   AndrÃ©s Torres      90     600         6.67   euro\n",
      " 11    Isabella Ruiz      40     500        12.50   euro\n",
      " 14   Javier Morales      70     600         8.57   euro\n",
      " 14   Javier Morales     120     751         6.26   euro\n",
      " 20   MartÃ­n Castro      80     689         8.61   euro\n",
      " 21   Juliana Pineda      66     574         8.70   euro\n",
      " 18    Ricardo Silva      66    1230        18.64   euro\n",
      " 21   Juliana Pineda     108    1400        12.96   euro\n",
      " 10  Luis HernÃ¡ndez      84     400         4.76   euro\n",
      " 10  Luis HernÃ¡ndez      21     852        40.57   euro\n",
      "  2 Carlos MartÃ­nez       5      30         6.00   euro\n",
      "  6   AndrÃ©s Torres      50     100         2.00   euro\n",
      " 19    Camila Vargas     600    1000         1.67   euro\n",
      "  4      Juan PÃ©rez     112     560         5.00   euro\n",
      "  4      Juan PÃ©rez     134     628         4.69   euro\n",
      "  4      Juan PÃ©rez      90     600         6.67   euro\n"
     ]
    }
   ],
   "source": [
    "import json\n",
    "import pandas as pd\n",
    "ruta_archivo_json = './comandas.json'\n",
    "with open(ruta_archivo_json) as archivo_json:\n",
    "    comandas_json = json.load(archivo_json)\n",
    "lista_de_diccionarios = comandas_json['comandas']\n",
    "comandas = pd.DataFrame(lista_de_diccionarios)\n",
    "print(comandas.to_string(index=False))"
   ]
  },
  {
   "cell_type": "code",
   "execution_count": null,
   "metadata": {},
   "outputs": [],
   "source": []
  }
 ],
 "metadata": {
  "kernelspec": {
   "display_name": "Python 3 (ipykernel)",
   "language": "python",
   "name": "python3"
  },
  "language_info": {
   "codemirror_mode": {
    "name": "ipython",
    "version": 3
   },
   "file_extension": ".py",
   "mimetype": "text/x-python",
   "name": "python",
   "nbconvert_exporter": "python",
   "pygments_lexer": "ipython3",
   "version": "3.12.7"
  }
 },
 "nbformat": 4,
 "nbformat_minor": 4
}
