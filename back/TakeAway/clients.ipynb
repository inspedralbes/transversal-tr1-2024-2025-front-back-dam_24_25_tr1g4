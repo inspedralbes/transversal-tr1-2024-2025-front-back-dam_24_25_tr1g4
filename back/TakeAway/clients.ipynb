{
 "cells": [
  {
   "cell_type": "code",
   "execution_count": 1,
   "metadata": {},
   "outputs": [
    {
     "name": "stdout",
     "output_type": "stream",
     "text": [
      " ID          Clients  Ventes  Diners Diners_venda Moneda\n",
      "  1 Carlos MartÃ­nez       6      10         1.67   euro\n",
      "  2 LucÃ­a GonzÃ¡lez       8     100        12.50   euro\n"
     ]
    }
   ],
   "source": [
    "import json\n",
    "import pandas as pd\n",
    "ruta_archivo_json = './comandas.json'\n",
    "with open(ruta_archivo_json) as archivo_json:\n",
    "    comandas_json = json.load(archivo_json)\n",
    "lista_de_diccionarios = comandas_json['comandas']\n",
    "comandas = pd.DataFrame(lista_de_diccionarios)\n",
    "print(comandas.to_string(index=False))"
   ]
  },
  {
   "cell_type": "markdown",
   "metadata": {},
   "source": []
  }
 ],
 "metadata": {
  "kernelspec": {
   "display_name": "Python 3",
   "language": "python",
   "name": "python3"
  },
  "language_info": {
   "codemirror_mode": {
    "name": "ipython",
    "version": 3
   },
   "file_extension": ".py",
   "mimetype": "text/x-python",
   "name": "python",
   "nbconvert_exporter": "python",
   "pygments_lexer": "ipython3",
   "version": "3.12.7"
  }
 },
 "nbformat": 4,
 "nbformat_minor": 4
}
